{
 "cells": [
  {
   "cell_type": "code",
   "execution_count": 1,
   "id": "f7d2d110",
   "metadata": {},
   "outputs": [],
   "source": [
    "import pandas as pd\n",
    "import numpy as np\n",
    "import sys\n",
    "import os\n",
    "\n",
    "utils_path = os.path.abspath('../dataset/PopulationStatistics')\n",
    "if utils_path not in sys.path:\n",
    "    sys.path.append(utils_path)\n",
    "\n",
    "from utils import *"
   ]
  },
  {
   "cell_type": "code",
   "execution_count": 2,
   "id": "0e782369",
   "metadata": {},
   "outputs": [],
   "source": [
    "file_path = '../dataset/PopulationStatistics/202212_202412_연령별인구현황_연간.csv'\n",
    "origin_df = pd.read_csv(file_path, encoding = 'cp949')"
   ]
  },
  {
   "cell_type": "code",
   "execution_count": 3,
   "id": "192aadf7",
   "metadata": {},
   "outputs": [],
   "source": [
    "# origin_df : 원본 데이터셋\n",
    "# df : 전처리 데이터셋\n",
    "df = preprocess_df(origin_df)\n"
   ]
  },
  {
   "cell_type": "code",
   "execution_count": 4,
   "id": "c561bea7",
   "metadata": {},
   "outputs": [
    {
     "data": {
      "text/html": [
       "<div>\n",
       "<style scoped>\n",
       "    .dataframe tbody tr th:only-of-type {\n",
       "        vertical-align: middle;\n",
       "    }\n",
       "\n",
       "    .dataframe tbody tr th {\n",
       "        vertical-align: top;\n",
       "    }\n",
       "\n",
       "    .dataframe thead th {\n",
       "        text-align: right;\n",
       "    }\n",
       "</style>\n",
       "<table border=\"1\" class=\"dataframe\">\n",
       "  <thead>\n",
       "    <tr style=\"text-align: right;\">\n",
       "      <th></th>\n",
       "      <th>행정구역</th>\n",
       "      <th>연도</th>\n",
       "      <th>성별</th>\n",
       "      <th>연령대</th>\n",
       "      <th>인구수</th>\n",
       "    </tr>\n",
       "  </thead>\n",
       "  <tbody>\n",
       "    <tr>\n",
       "      <th>0</th>\n",
       "      <td>서울특별시  (1100000000)</td>\n",
       "      <td>2022</td>\n",
       "      <td>전체</td>\n",
       "      <td>0~4세</td>\n",
       "      <td>227566</td>\n",
       "    </tr>\n",
       "    <tr>\n",
       "      <th>1</th>\n",
       "      <td>서울특별시  (1100000000)</td>\n",
       "      <td>2022</td>\n",
       "      <td>전체</td>\n",
       "      <td>5~9세</td>\n",
       "      <td>317214</td>\n",
       "    </tr>\n",
       "    <tr>\n",
       "      <th>2</th>\n",
       "      <td>서울특별시  (1100000000)</td>\n",
       "      <td>2022</td>\n",
       "      <td>전체</td>\n",
       "      <td>10~14세</td>\n",
       "      <td>361546</td>\n",
       "    </tr>\n",
       "    <tr>\n",
       "      <th>3</th>\n",
       "      <td>서울특별시  (1100000000)</td>\n",
       "      <td>2022</td>\n",
       "      <td>전체</td>\n",
       "      <td>15~19세</td>\n",
       "      <td>385373</td>\n",
       "    </tr>\n",
       "    <tr>\n",
       "      <th>4</th>\n",
       "      <td>서울특별시  (1100000000)</td>\n",
       "      <td>2022</td>\n",
       "      <td>전체</td>\n",
       "      <td>20~24세</td>\n",
       "      <td>576263</td>\n",
       "    </tr>\n",
       "    <tr>\n",
       "      <th>...</th>\n",
       "      <td>...</td>\n",
       "      <td>...</td>\n",
       "      <td>...</td>\n",
       "      <td>...</td>\n",
       "      <td>...</td>\n",
       "    </tr>\n",
       "    <tr>\n",
       "      <th>55183</th>\n",
       "      <td>제주특별자치도 서귀포시 (5013000000)</td>\n",
       "      <td>2024</td>\n",
       "      <td>여</td>\n",
       "      <td>80~84세</td>\n",
       "      <td>3526</td>\n",
       "    </tr>\n",
       "    <tr>\n",
       "      <th>55184</th>\n",
       "      <td>제주특별자치도 서귀포시 (5013000000)</td>\n",
       "      <td>2024</td>\n",
       "      <td>여</td>\n",
       "      <td>85~89세</td>\n",
       "      <td>2471</td>\n",
       "    </tr>\n",
       "    <tr>\n",
       "      <th>55185</th>\n",
       "      <td>제주특별자치도 서귀포시 (5013000000)</td>\n",
       "      <td>2024</td>\n",
       "      <td>여</td>\n",
       "      <td>90~94세</td>\n",
       "      <td>1223</td>\n",
       "    </tr>\n",
       "    <tr>\n",
       "      <th>55186</th>\n",
       "      <td>제주특별자치도 서귀포시 (5013000000)</td>\n",
       "      <td>2024</td>\n",
       "      <td>여</td>\n",
       "      <td>95~99세</td>\n",
       "      <td>256</td>\n",
       "    </tr>\n",
       "    <tr>\n",
       "      <th>55187</th>\n",
       "      <td>제주특별자치도 서귀포시 (5013000000)</td>\n",
       "      <td>2024</td>\n",
       "      <td>여</td>\n",
       "      <td>100세 이상</td>\n",
       "      <td>64</td>\n",
       "    </tr>\n",
       "  </tbody>\n",
       "</table>\n",
       "<p>55188 rows × 5 columns</p>\n",
       "</div>"
      ],
      "text/plain": [
       "                            행정구역    연도  성별      연령대     인구수\n",
       "0            서울특별시  (1100000000)  2022  전체     0~4세  227566\n",
       "1            서울특별시  (1100000000)  2022  전체     5~9세  317214\n",
       "2            서울특별시  (1100000000)  2022  전체   10~14세  361546\n",
       "3            서울특별시  (1100000000)  2022  전체   15~19세  385373\n",
       "4            서울특별시  (1100000000)  2022  전체   20~24세  576263\n",
       "...                          ...   ...  ..      ...     ...\n",
       "55183  제주특별자치도 서귀포시 (5013000000)  2024   여   80~84세    3526\n",
       "55184  제주특별자치도 서귀포시 (5013000000)  2024   여   85~89세    2471\n",
       "55185  제주특별자치도 서귀포시 (5013000000)  2024   여   90~94세    1223\n",
       "55186  제주특별자치도 서귀포시 (5013000000)  2024   여   95~99세     256\n",
       "55187  제주특별자치도 서귀포시 (5013000000)  2024   여  100세 이상      64\n",
       "\n",
       "[55188 rows x 5 columns]"
      ]
     },
     "execution_count": 4,
     "metadata": {},
     "output_type": "execute_result"
    }
   ],
   "source": [
    "df"
   ]
  },
  {
   "cell_type": "code",
   "execution_count": 5,
   "id": "d6913c16",
   "metadata": {},
   "outputs": [],
   "source": [
    "# 소멸위험지수 계산 \n",
    "decline_df = decline_index(df)\n",
    "\n"
   ]
  },
  {
   "cell_type": "code",
   "execution_count": 6,
   "id": "7995b70e",
   "metadata": {},
   "outputs": [
    {
     "data": {
      "text/html": [
       "<div>\n",
       "<style scoped>\n",
       "    .dataframe tbody tr th:only-of-type {\n",
       "        vertical-align: middle;\n",
       "    }\n",
       "\n",
       "    .dataframe tbody tr th {\n",
       "        vertical-align: top;\n",
       "    }\n",
       "\n",
       "    .dataframe thead th {\n",
       "        text-align: right;\n",
       "    }\n",
       "</style>\n",
       "<table border=\"1\" class=\"dataframe\">\n",
       "  <thead>\n",
       "    <tr style=\"text-align: right;\">\n",
       "      <th></th>\n",
       "      <th>행정구역</th>\n",
       "      <th>연도</th>\n",
       "      <th>20~39세_여성</th>\n",
       "      <th>65세_이상_전체</th>\n",
       "      <th>지방소멸지수</th>\n",
       "    </tr>\n",
       "  </thead>\n",
       "  <tbody>\n",
       "    <tr>\n",
       "      <th>0</th>\n",
       "      <td>강원도  (4200000000)</td>\n",
       "      <td>2022</td>\n",
       "      <td>149573</td>\n",
       "      <td>698136</td>\n",
       "      <td>0.214246</td>\n",
       "    </tr>\n",
       "    <tr>\n",
       "      <th>1</th>\n",
       "      <td>강원도 강릉시 (4215000000)</td>\n",
       "      <td>2022</td>\n",
       "      <td>20298</td>\n",
       "      <td>98942</td>\n",
       "      <td>0.205150</td>\n",
       "    </tr>\n",
       "    <tr>\n",
       "      <th>2</th>\n",
       "      <td>강원도 고성군 (4282000000)</td>\n",
       "      <td>2022</td>\n",
       "      <td>1945</td>\n",
       "      <td>16996</td>\n",
       "      <td>0.114439</td>\n",
       "    </tr>\n",
       "    <tr>\n",
       "      <th>3</th>\n",
       "      <td>강원도 동해시 (4217000000)</td>\n",
       "      <td>2022</td>\n",
       "      <td>7521</td>\n",
       "      <td>39840</td>\n",
       "      <td>0.188780</td>\n",
       "    </tr>\n",
       "    <tr>\n",
       "      <th>4</th>\n",
       "      <td>강원도 삼척시 (4223000000)</td>\n",
       "      <td>2022</td>\n",
       "      <td>5279</td>\n",
       "      <td>34888</td>\n",
       "      <td>0.151313</td>\n",
       "    </tr>\n",
       "    <tr>\n",
       "      <th>...</th>\n",
       "      <td>...</td>\n",
       "      <td>...</td>\n",
       "      <td>...</td>\n",
       "      <td>...</td>\n",
       "      <td>...</td>\n",
       "    </tr>\n",
       "    <tr>\n",
       "      <th>871</th>\n",
       "      <td>충청북도 청주시 흥덕구 (4311300000)</td>\n",
       "      <td>2023</td>\n",
       "      <td>37476</td>\n",
       "      <td>71626</td>\n",
       "      <td>0.523218</td>\n",
       "    </tr>\n",
       "    <tr>\n",
       "      <th>872</th>\n",
       "      <td>충청북도 청주시 흥덕구 (4311300000)</td>\n",
       "      <td>2024</td>\n",
       "      <td>39082</td>\n",
       "      <td>77548</td>\n",
       "      <td>0.503972</td>\n",
       "    </tr>\n",
       "    <tr>\n",
       "      <th>873</th>\n",
       "      <td>충청북도 충주시 (4313000000)</td>\n",
       "      <td>2022</td>\n",
       "      <td>19580</td>\n",
       "      <td>91812</td>\n",
       "      <td>0.213262</td>\n",
       "    </tr>\n",
       "    <tr>\n",
       "      <th>874</th>\n",
       "      <td>충청북도 충주시 (4313000000)</td>\n",
       "      <td>2023</td>\n",
       "      <td>19156</td>\n",
       "      <td>95934</td>\n",
       "      <td>0.199679</td>\n",
       "    </tr>\n",
       "    <tr>\n",
       "      <th>875</th>\n",
       "      <td>충청북도 충주시 (4313000000)</td>\n",
       "      <td>2024</td>\n",
       "      <td>18738</td>\n",
       "      <td>100830</td>\n",
       "      <td>0.185838</td>\n",
       "    </tr>\n",
       "  </tbody>\n",
       "</table>\n",
       "<p>876 rows × 5 columns</p>\n",
       "</div>"
      ],
      "text/plain": [
       "                          행정구역    연도  20~39세_여성  65세_이상_전체    지방소멸지수\n",
       "0            강원도  (4200000000)  2022     149573     698136  0.214246\n",
       "1         강원도 강릉시 (4215000000)  2022      20298      98942  0.205150\n",
       "2         강원도 고성군 (4282000000)  2022       1945      16996  0.114439\n",
       "3         강원도 동해시 (4217000000)  2022       7521      39840  0.188780\n",
       "4         강원도 삼척시 (4223000000)  2022       5279      34888  0.151313\n",
       "..                         ...   ...        ...        ...       ...\n",
       "871  충청북도 청주시 흥덕구 (4311300000)  2023      37476      71626  0.523218\n",
       "872  충청북도 청주시 흥덕구 (4311300000)  2024      39082      77548  0.503972\n",
       "873      충청북도 충주시 (4313000000)  2022      19580      91812  0.213262\n",
       "874      충청북도 충주시 (4313000000)  2023      19156      95934  0.199679\n",
       "875      충청북도 충주시 (4313000000)  2024      18738     100830  0.185838\n",
       "\n",
       "[876 rows x 5 columns]"
      ]
     },
     "execution_count": 6,
     "metadata": {},
     "output_type": "execute_result"
    }
   ],
   "source": [
    "decline_df"
   ]
  },
  {
   "cell_type": "code",
   "execution_count": 7,
   "id": "75b3640a",
   "metadata": {},
   "outputs": [],
   "source": [
    "# 소멸위험지수 일부 추출\n",
    "# n : 지역수\n",
    "# thresh : 수치 - 해당 수치 이하인 경우 다 출력\n",
    "decline_stat_df1 = get_low_extinction_regions(decline_df, n=10)\n",
    "decline_stat_df2 = get_low_extinction_regions(decline_df, thresh=0.2)"
   ]
  },
  {
   "cell_type": "code",
   "execution_count": 8,
   "id": "b8c6242e",
   "metadata": {},
   "outputs": [
    {
     "data": {
      "text/html": [
       "<div>\n",
       "<style scoped>\n",
       "    .dataframe tbody tr th:only-of-type {\n",
       "        vertical-align: middle;\n",
       "    }\n",
       "\n",
       "    .dataframe tbody tr th {\n",
       "        vertical-align: top;\n",
       "    }\n",
       "\n",
       "    .dataframe thead th {\n",
       "        text-align: right;\n",
       "    }\n",
       "</style>\n",
       "<table border=\"1\" class=\"dataframe\">\n",
       "  <thead>\n",
       "    <tr style=\"text-align: right;\">\n",
       "      <th></th>\n",
       "      <th>행정구역</th>\n",
       "      <th>연도</th>\n",
       "      <th>20~39세_여성</th>\n",
       "      <th>65세_이상_전체</th>\n",
       "      <th>지방소멸지수</th>\n",
       "      <th>소멸위험순위</th>\n",
       "    </tr>\n",
       "  </thead>\n",
       "  <tbody>\n",
       "    <tr>\n",
       "      <th>0</th>\n",
       "      <td>대구광역시 군위군 (2772000000)</td>\n",
       "      <td>2024</td>\n",
       "      <td>851</td>\n",
       "      <td>21240</td>\n",
       "      <td>0.040066</td>\n",
       "      <td>1</td>\n",
       "    </tr>\n",
       "    <tr>\n",
       "      <th>1</th>\n",
       "      <td>대구광역시 군위군 (2772000000)</td>\n",
       "      <td>2023</td>\n",
       "      <td>926</td>\n",
       "      <td>20600</td>\n",
       "      <td>0.044951</td>\n",
       "      <td>1</td>\n",
       "    </tr>\n",
       "    <tr>\n",
       "      <th>2</th>\n",
       "      <td>경상북도 봉화군 (4792000000)</td>\n",
       "      <td>2024</td>\n",
       "      <td>1128</td>\n",
       "      <td>25076</td>\n",
       "      <td>0.044983</td>\n",
       "      <td>2</td>\n",
       "    </tr>\n",
       "    <tr>\n",
       "      <th>3</th>\n",
       "      <td>경상북도 봉화군 (4792000000)</td>\n",
       "      <td>2023</td>\n",
       "      <td>1263</td>\n",
       "      <td>24402</td>\n",
       "      <td>0.051758</td>\n",
       "      <td>2</td>\n",
       "    </tr>\n",
       "    <tr>\n",
       "      <th>4</th>\n",
       "      <td>경상북도 봉화군 (4792000000)</td>\n",
       "      <td>2022</td>\n",
       "      <td>1367</td>\n",
       "      <td>23894</td>\n",
       "      <td>0.057211</td>\n",
       "      <td>2</td>\n",
       "    </tr>\n",
       "    <tr>\n",
       "      <th>5</th>\n",
       "      <td>경상북도 의성군 (4773000000)</td>\n",
       "      <td>2024</td>\n",
       "      <td>2084</td>\n",
       "      <td>46154</td>\n",
       "      <td>0.045153</td>\n",
       "      <td>3</td>\n",
       "    </tr>\n",
       "    <tr>\n",
       "      <th>6</th>\n",
       "      <td>경상북도 의성군 (4773000000)</td>\n",
       "      <td>2023</td>\n",
       "      <td>2307</td>\n",
       "      <td>45364</td>\n",
       "      <td>0.050855</td>\n",
       "      <td>3</td>\n",
       "    </tr>\n",
       "    <tr>\n",
       "      <th>7</th>\n",
       "      <td>경상북도 의성군 (4773000000)</td>\n",
       "      <td>2022</td>\n",
       "      <td>2396</td>\n",
       "      <td>44352</td>\n",
       "      <td>0.054022</td>\n",
       "      <td>3</td>\n",
       "    </tr>\n",
       "    <tr>\n",
       "      <th>8</th>\n",
       "      <td>경상남도 합천군 (4889000000)</td>\n",
       "      <td>2024</td>\n",
       "      <td>1740</td>\n",
       "      <td>36226</td>\n",
       "      <td>0.048032</td>\n",
       "      <td>4</td>\n",
       "    </tr>\n",
       "    <tr>\n",
       "      <th>9</th>\n",
       "      <td>경상남도 합천군 (4889000000)</td>\n",
       "      <td>2023</td>\n",
       "      <td>1849</td>\n",
       "      <td>35668</td>\n",
       "      <td>0.051839</td>\n",
       "      <td>4</td>\n",
       "    </tr>\n",
       "    <tr>\n",
       "      <th>10</th>\n",
       "      <td>경상남도 합천군 (4889000000)</td>\n",
       "      <td>2022</td>\n",
       "      <td>2015</td>\n",
       "      <td>35350</td>\n",
       "      <td>0.057001</td>\n",
       "      <td>4</td>\n",
       "    </tr>\n",
       "    <tr>\n",
       "      <th>11</th>\n",
       "      <td>전라남도 고흥군 (4677000000)</td>\n",
       "      <td>2024</td>\n",
       "      <td>2755</td>\n",
       "      <td>54934</td>\n",
       "      <td>0.050151</td>\n",
       "      <td>5</td>\n",
       "    </tr>\n",
       "    <tr>\n",
       "      <th>12</th>\n",
       "      <td>전라남도 고흥군 (4677000000)</td>\n",
       "      <td>2023</td>\n",
       "      <td>2909</td>\n",
       "      <td>54060</td>\n",
       "      <td>0.053811</td>\n",
       "      <td>5</td>\n",
       "    </tr>\n",
       "    <tr>\n",
       "      <th>13</th>\n",
       "      <td>전라남도 고흥군 (4677000000)</td>\n",
       "      <td>2022</td>\n",
       "      <td>2994</td>\n",
       "      <td>53378</td>\n",
       "      <td>0.056091</td>\n",
       "      <td>5</td>\n",
       "    </tr>\n",
       "    <tr>\n",
       "      <th>14</th>\n",
       "      <td>경상북도 청도군 (4782000000)</td>\n",
       "      <td>2024</td>\n",
       "      <td>1807</td>\n",
       "      <td>35886</td>\n",
       "      <td>0.050354</td>\n",
       "      <td>6</td>\n",
       "    </tr>\n",
       "    <tr>\n",
       "      <th>15</th>\n",
       "      <td>경상북도 청도군 (4782000000)</td>\n",
       "      <td>2023</td>\n",
       "      <td>1985</td>\n",
       "      <td>34644</td>\n",
       "      <td>0.057297</td>\n",
       "      <td>6</td>\n",
       "    </tr>\n",
       "    <tr>\n",
       "      <th>16</th>\n",
       "      <td>경상북도 청도군 (4782000000)</td>\n",
       "      <td>2022</td>\n",
       "      <td>2092</td>\n",
       "      <td>33752</td>\n",
       "      <td>0.061982</td>\n",
       "      <td>6</td>\n",
       "    </tr>\n",
       "    <tr>\n",
       "      <th>17</th>\n",
       "      <td>경상북도 청송군 (4775000000)</td>\n",
       "      <td>2024</td>\n",
       "      <td>1061</td>\n",
       "      <td>20730</td>\n",
       "      <td>0.051182</td>\n",
       "      <td>7</td>\n",
       "    </tr>\n",
       "    <tr>\n",
       "      <th>18</th>\n",
       "      <td>경상북도 청송군 (4775000000)</td>\n",
       "      <td>2023</td>\n",
       "      <td>1114</td>\n",
       "      <td>20084</td>\n",
       "      <td>0.055467</td>\n",
       "      <td>7</td>\n",
       "    </tr>\n",
       "    <tr>\n",
       "      <th>19</th>\n",
       "      <td>경상북도 청송군 (4775000000)</td>\n",
       "      <td>2022</td>\n",
       "      <td>1191</td>\n",
       "      <td>19634</td>\n",
       "      <td>0.060660</td>\n",
       "      <td>7</td>\n",
       "    </tr>\n",
       "    <tr>\n",
       "      <th>20</th>\n",
       "      <td>경상남도 남해군 (4884000000)</td>\n",
       "      <td>2024</td>\n",
       "      <td>1753</td>\n",
       "      <td>34044</td>\n",
       "      <td>0.051492</td>\n",
       "      <td>8</td>\n",
       "    </tr>\n",
       "    <tr>\n",
       "      <th>21</th>\n",
       "      <td>경상남도 남해군 (4884000000)</td>\n",
       "      <td>2023</td>\n",
       "      <td>1967</td>\n",
       "      <td>33728</td>\n",
       "      <td>0.058319</td>\n",
       "      <td>8</td>\n",
       "    </tr>\n",
       "    <tr>\n",
       "      <th>22</th>\n",
       "      <td>경상남도 남해군 (4884000000)</td>\n",
       "      <td>2022</td>\n",
       "      <td>2125</td>\n",
       "      <td>33372</td>\n",
       "      <td>0.063676</td>\n",
       "      <td>8</td>\n",
       "    </tr>\n",
       "    <tr>\n",
       "      <th>23</th>\n",
       "      <td>경상북도 영덕군 (4777000000)</td>\n",
       "      <td>2024</td>\n",
       "      <td>1562</td>\n",
       "      <td>28864</td>\n",
       "      <td>0.054116</td>\n",
       "      <td>9</td>\n",
       "    </tr>\n",
       "    <tr>\n",
       "      <th>24</th>\n",
       "      <td>경상북도 영덕군 (4777000000)</td>\n",
       "      <td>2023</td>\n",
       "      <td>1733</td>\n",
       "      <td>28386</td>\n",
       "      <td>0.061051</td>\n",
       "      <td>9</td>\n",
       "    </tr>\n",
       "    <tr>\n",
       "      <th>25</th>\n",
       "      <td>경상북도 영덕군 (4777000000)</td>\n",
       "      <td>2022</td>\n",
       "      <td>1832</td>\n",
       "      <td>27976</td>\n",
       "      <td>0.065485</td>\n",
       "      <td>9</td>\n",
       "    </tr>\n",
       "    <tr>\n",
       "      <th>26</th>\n",
       "      <td>경상남도 산청군 (4886000000)</td>\n",
       "      <td>2024</td>\n",
       "      <td>1533</td>\n",
       "      <td>28244</td>\n",
       "      <td>0.054277</td>\n",
       "      <td>10</td>\n",
       "    </tr>\n",
       "    <tr>\n",
       "      <th>27</th>\n",
       "      <td>경상남도 산청군 (4886000000)</td>\n",
       "      <td>2023</td>\n",
       "      <td>1607</td>\n",
       "      <td>27658</td>\n",
       "      <td>0.058103</td>\n",
       "      <td>10</td>\n",
       "    </tr>\n",
       "    <tr>\n",
       "      <th>28</th>\n",
       "      <td>경상남도 산청군 (4886000000)</td>\n",
       "      <td>2022</td>\n",
       "      <td>1702</td>\n",
       "      <td>27000</td>\n",
       "      <td>0.063037</td>\n",
       "      <td>10</td>\n",
       "    </tr>\n",
       "  </tbody>\n",
       "</table>\n",
       "</div>"
      ],
      "text/plain": [
       "                      행정구역    연도  20~39세_여성  65세_이상_전체    지방소멸지수  소멸위험순위\n",
       "0   대구광역시 군위군 (2772000000)  2024        851      21240  0.040066       1\n",
       "1   대구광역시 군위군 (2772000000)  2023        926      20600  0.044951       1\n",
       "2    경상북도 봉화군 (4792000000)  2024       1128      25076  0.044983       2\n",
       "3    경상북도 봉화군 (4792000000)  2023       1263      24402  0.051758       2\n",
       "4    경상북도 봉화군 (4792000000)  2022       1367      23894  0.057211       2\n",
       "5    경상북도 의성군 (4773000000)  2024       2084      46154  0.045153       3\n",
       "6    경상북도 의성군 (4773000000)  2023       2307      45364  0.050855       3\n",
       "7    경상북도 의성군 (4773000000)  2022       2396      44352  0.054022       3\n",
       "8    경상남도 합천군 (4889000000)  2024       1740      36226  0.048032       4\n",
       "9    경상남도 합천군 (4889000000)  2023       1849      35668  0.051839       4\n",
       "10   경상남도 합천군 (4889000000)  2022       2015      35350  0.057001       4\n",
       "11   전라남도 고흥군 (4677000000)  2024       2755      54934  0.050151       5\n",
       "12   전라남도 고흥군 (4677000000)  2023       2909      54060  0.053811       5\n",
       "13   전라남도 고흥군 (4677000000)  2022       2994      53378  0.056091       5\n",
       "14   경상북도 청도군 (4782000000)  2024       1807      35886  0.050354       6\n",
       "15   경상북도 청도군 (4782000000)  2023       1985      34644  0.057297       6\n",
       "16   경상북도 청도군 (4782000000)  2022       2092      33752  0.061982       6\n",
       "17   경상북도 청송군 (4775000000)  2024       1061      20730  0.051182       7\n",
       "18   경상북도 청송군 (4775000000)  2023       1114      20084  0.055467       7\n",
       "19   경상북도 청송군 (4775000000)  2022       1191      19634  0.060660       7\n",
       "20   경상남도 남해군 (4884000000)  2024       1753      34044  0.051492       8\n",
       "21   경상남도 남해군 (4884000000)  2023       1967      33728  0.058319       8\n",
       "22   경상남도 남해군 (4884000000)  2022       2125      33372  0.063676       8\n",
       "23   경상북도 영덕군 (4777000000)  2024       1562      28864  0.054116       9\n",
       "24   경상북도 영덕군 (4777000000)  2023       1733      28386  0.061051       9\n",
       "25   경상북도 영덕군 (4777000000)  2022       1832      27976  0.065485       9\n",
       "26   경상남도 산청군 (4886000000)  2024       1533      28244  0.054277      10\n",
       "27   경상남도 산청군 (4886000000)  2023       1607      27658  0.058103      10\n",
       "28   경상남도 산청군 (4886000000)  2022       1702      27000  0.063037      10"
      ]
     },
     "execution_count": 8,
     "metadata": {},
     "output_type": "execute_result"
    }
   ],
   "source": [
    "decline_stat_df1"
   ]
  },
  {
   "cell_type": "code",
   "execution_count": 9,
   "id": "9012cea2",
   "metadata": {},
   "outputs": [
    {
     "data": {
      "text/html": [
       "<div>\n",
       "<style scoped>\n",
       "    .dataframe tbody tr th:only-of-type {\n",
       "        vertical-align: middle;\n",
       "    }\n",
       "\n",
       "    .dataframe tbody tr th {\n",
       "        vertical-align: top;\n",
       "    }\n",
       "\n",
       "    .dataframe thead th {\n",
       "        text-align: right;\n",
       "    }\n",
       "</style>\n",
       "<table border=\"1\" class=\"dataframe\">\n",
       "  <thead>\n",
       "    <tr style=\"text-align: right;\">\n",
       "      <th></th>\n",
       "      <th>행정구역</th>\n",
       "      <th>연도</th>\n",
       "      <th>20~39세_여성</th>\n",
       "      <th>65세_이상_전체</th>\n",
       "      <th>지방소멸지수</th>\n",
       "      <th>소멸위험순위</th>\n",
       "    </tr>\n",
       "  </thead>\n",
       "  <tbody>\n",
       "    <tr>\n",
       "      <th>0</th>\n",
       "      <td>대구광역시 군위군 (2772000000)</td>\n",
       "      <td>2024</td>\n",
       "      <td>851</td>\n",
       "      <td>21240</td>\n",
       "      <td>0.040066</td>\n",
       "      <td>1</td>\n",
       "    </tr>\n",
       "    <tr>\n",
       "      <th>1</th>\n",
       "      <td>대구광역시 군위군 (2772000000)</td>\n",
       "      <td>2023</td>\n",
       "      <td>926</td>\n",
       "      <td>20600</td>\n",
       "      <td>0.044951</td>\n",
       "      <td>1</td>\n",
       "    </tr>\n",
       "    <tr>\n",
       "      <th>2</th>\n",
       "      <td>경상북도 봉화군 (4792000000)</td>\n",
       "      <td>2024</td>\n",
       "      <td>1128</td>\n",
       "      <td>25076</td>\n",
       "      <td>0.044983</td>\n",
       "      <td>2</td>\n",
       "    </tr>\n",
       "    <tr>\n",
       "      <th>3</th>\n",
       "      <td>경상북도 봉화군 (4792000000)</td>\n",
       "      <td>2023</td>\n",
       "      <td>1263</td>\n",
       "      <td>24402</td>\n",
       "      <td>0.051758</td>\n",
       "      <td>2</td>\n",
       "    </tr>\n",
       "    <tr>\n",
       "      <th>4</th>\n",
       "      <td>경상북도 봉화군 (4792000000)</td>\n",
       "      <td>2022</td>\n",
       "      <td>1367</td>\n",
       "      <td>23894</td>\n",
       "      <td>0.057211</td>\n",
       "      <td>2</td>\n",
       "    </tr>\n",
       "    <tr>\n",
       "      <th>...</th>\n",
       "      <td>...</td>\n",
       "      <td>...</td>\n",
       "      <td>...</td>\n",
       "      <td>...</td>\n",
       "      <td>...</td>\n",
       "      <td>...</td>\n",
       "    </tr>\n",
       "    <tr>\n",
       "      <th>317</th>\n",
       "      <td>충청남도 당진시 (4427000000)</td>\n",
       "      <td>2023</td>\n",
       "      <td>14761</td>\n",
       "      <td>70418</td>\n",
       "      <td>0.209620</td>\n",
       "      <td>121</td>\n",
       "    </tr>\n",
       "    <tr>\n",
       "      <th>318</th>\n",
       "      <td>충청남도 당진시 (4427000000)</td>\n",
       "      <td>2022</td>\n",
       "      <td>15180</td>\n",
       "      <td>67716</td>\n",
       "      <td>0.224172</td>\n",
       "      <td>121</td>\n",
       "    </tr>\n",
       "    <tr>\n",
       "      <th>319</th>\n",
       "      <td>경상북도 포항시 (4711000000)</td>\n",
       "      <td>2024</td>\n",
       "      <td>43884</td>\n",
       "      <td>220270</td>\n",
       "      <td>0.199228</td>\n",
       "      <td>122</td>\n",
       "    </tr>\n",
       "    <tr>\n",
       "      <th>320</th>\n",
       "      <td>경상북도 포항시 (4711000000)</td>\n",
       "      <td>2023</td>\n",
       "      <td>45188</td>\n",
       "      <td>207684</td>\n",
       "      <td>0.217581</td>\n",
       "      <td>122</td>\n",
       "    </tr>\n",
       "    <tr>\n",
       "      <th>321</th>\n",
       "      <td>경상북도 포항시 (4711000000)</td>\n",
       "      <td>2022</td>\n",
       "      <td>47328</td>\n",
       "      <td>196898</td>\n",
       "      <td>0.240368</td>\n",
       "      <td>122</td>\n",
       "    </tr>\n",
       "  </tbody>\n",
       "</table>\n",
       "<p>322 rows × 6 columns</p>\n",
       "</div>"
      ],
      "text/plain": [
       "                       행정구역    연도  20~39세_여성  65세_이상_전체    지방소멸지수  소멸위험순위\n",
       "0    대구광역시 군위군 (2772000000)  2024        851      21240  0.040066       1\n",
       "1    대구광역시 군위군 (2772000000)  2023        926      20600  0.044951       1\n",
       "2     경상북도 봉화군 (4792000000)  2024       1128      25076  0.044983       2\n",
       "3     경상북도 봉화군 (4792000000)  2023       1263      24402  0.051758       2\n",
       "4     경상북도 봉화군 (4792000000)  2022       1367      23894  0.057211       2\n",
       "..                      ...   ...        ...        ...       ...     ...\n",
       "317   충청남도 당진시 (4427000000)  2023      14761      70418  0.209620     121\n",
       "318   충청남도 당진시 (4427000000)  2022      15180      67716  0.224172     121\n",
       "319   경상북도 포항시 (4711000000)  2024      43884     220270  0.199228     122\n",
       "320   경상북도 포항시 (4711000000)  2023      45188     207684  0.217581     122\n",
       "321   경상북도 포항시 (4711000000)  2022      47328     196898  0.240368     122\n",
       "\n",
       "[322 rows x 6 columns]"
      ]
     },
     "execution_count": 9,
     "metadata": {},
     "output_type": "execute_result"
    }
   ],
   "source": [
    "decline_stat_df2"
   ]
  },
  {
   "cell_type": "code",
   "execution_count": 10,
   "id": "747ac299",
   "metadata": {},
   "outputs": [
    {
     "name": "stdout",
     "output_type": "stream",
     "text": [
      "✅ 그래프가 HTML로 저장되었습니다: ./plot/decline_index_trend.html\n"
     ]
    },
    {
     "data": {
      "application/vnd.plotly.v1+json": {
       "config": {
        "plotlyServerURL": "https://plot.ly"
       },
       "data": [
        {
         "customdata": {
          "bdata": "pgZ4aUcGCmz9BVRu",
          "dtype": "i2",
          "shape": "3, 2"
         },
         "hovertemplate": "행정구역=경상남도 산청군 (4886000000)<br>지방소멸지수=%{y:.3f}<br>20~39세_여성=%{customdata[0]}<br>65세_이상_전체=%{customdata[1]}<extra></extra>",
         "legendgroup": "경상남도 산청군 (4886000000)",
         "line": {
          "color": "#636efa",
          "dash": "solid"
         },
         "marker": {
          "symbol": "circle"
         },
         "mode": "lines+markers",
         "name": "경상남도 산청군 (4886000000)",
         "orientation": "v",
         "showlegend": true,
         "type": "scatter",
         "x": {
          "bdata": "5gfnB+gH",
          "dtype": "i2"
         },
         "xaxis": "x",
         "y": {
          "bdata": "wsSC/DEjsD90Tkqqnb+tP6MeJ2Uyyqs/",
          "dtype": "f8"
         },
         "yaxis": "y"
        },
        {
         "customdata": {
          "bdata": "TQgAAFyCAACvBwAAwIMAANkGAAD8hAAA",
          "dtype": "i4",
          "shape": "3, 2"
         },
         "hovertemplate": "행정구역=경상남도 남해군 (4884000000)<br>지방소멸지수=%{y:.3f}<br>20~39세_여성=%{customdata[0]}<br>65세_이상_전체=%{customdata[1]}<extra></extra>",
         "legendgroup": "경상남도 남해군 (4884000000)",
         "line": {
          "color": "#EF553B",
          "dash": "solid"
         },
         "marker": {
          "symbol": "circle"
         },
         "mode": "lines+markers",
         "name": "경상남도 남해군 (4884000000)",
         "orientation": "v",
         "showlegend": true,
         "type": "scatter",
         "x": {
          "bdata": "5gfnB+gH",
          "dtype": "i2"
         },
         "xaxis": "x",
         "y": {
          "bdata": "td5KSBRNsD/cFf2ZDdytP/YxvRIvXao/",
          "dtype": "f8"
         },
         "yaxis": "y"
        },
        {
         "customdata": {
          "bdata": "LAgAANiDAADBBwAAVIcAAA8HAAAujAAA",
          "dtype": "i4",
          "shape": "3, 2"
         },
         "hovertemplate": "행정구역=경상북도 청도군 (4782000000)<br>지방소멸지수=%{y:.3f}<br>20~39세_여성=%{customdata[0]}<br>65세_이상_전체=%{customdata[1]}<extra></extra>",
         "legendgroup": "경상북도 청도군 (4782000000)",
         "line": {
          "color": "#00cc96",
          "dash": "solid"
         },
         "marker": {
          "symbol": "circle"
         },
         "mode": "lines+markers",
         "name": "경상북도 청도군 (4782000000)",
         "orientation": "v",
         "showlegend": true,
         "type": "scatter",
         "x": {
          "bdata": "5gfnB+gH",
          "dtype": "i2"
         },
         "xaxis": "x",
         "y": {
          "bdata": "RMfEbwq8rz9asrbvClatP+zvMHb8x6k/",
          "dtype": "f8"
         },
         "yaxis": "y"
        },
        {
         "customdata": {
          "bdata": "sgsAAILQAABdCwAALNMAAMMKAACW1gAA",
          "dtype": "i4",
          "shape": "3, 2"
         },
         "hovertemplate": "행정구역=전라남도 고흥군 (4677000000)<br>지방소멸지수=%{y:.3f}<br>20~39세_여성=%{customdata[0]}<br>65세_이상_전체=%{customdata[1]}<extra></extra>",
         "legendgroup": "전라남도 고흥군 (4677000000)",
         "line": {
          "color": "#ab63fa",
          "dash": "solid"
         },
         "marker": {
          "symbol": "circle"
         },
         "mode": "lines+markers",
         "name": "전라남도 고흥군 (4677000000)",
         "orientation": "v",
         "showlegend": true,
         "type": "scatter",
         "x": {
          "bdata": "5gfnB+gH",
          "dtype": "i2"
         },
         "xaxis": "x",
         "y": {
          "bdata": "bRr9reW3rD/CXL15D42rP6+LP1pnrak/",
          "dtype": "f8"
         },
         "yaxis": "y"
        },
        {
         "customdata": {
          "bdata": "pwSyTFoEdE4lBPpQ",
          "dtype": "i2",
          "shape": "3, 2"
         },
         "hovertemplate": "행정구역=경상북도 청송군 (4775000000)<br>지방소멸지수=%{y:.3f}<br>20~39세_여성=%{customdata[0]}<br>65세_이상_전체=%{customdata[1]}<extra></extra>",
         "legendgroup": "경상북도 청송군 (4775000000)",
         "line": {
          "color": "#FFA15A",
          "dash": "solid"
         },
         "marker": {
          "symbol": "circle"
         },
         "mode": "lines+markers",
         "name": "경상북도 청송군 (4775000000)",
         "orientation": "v",
         "showlegend": true,
         "type": "scatter",
         "x": {
          "bdata": "5gfnB+gH",
          "dtype": "i2"
         },
         "xaxis": "x",
         "y": {
          "bdata": "Fv/agtYOrz9h/DL4LGasP63zLk+CNKo/",
          "dtype": "f8"
         },
         "yaxis": "y"
        },
        {
         "customdata": {
          "bdata": "XAkAAECtAAADCQAANLEAACQIAABKtAAA",
          "dtype": "i4",
          "shape": "3, 2"
         },
         "hovertemplate": "행정구역=경상북도 의성군 (4773000000)<br>지방소멸지수=%{y:.3f}<br>20~39세_여성=%{customdata[0]}<br>65세_이상_전체=%{customdata[1]}<extra></extra>",
         "legendgroup": "경상북도 의성군 (4773000000)",
         "line": {
          "color": "#19d3f3",
          "dash": "solid"
         },
         "marker": {
          "symbol": "circle"
         },
         "mode": "lines+markers",
         "name": "경상북도 의성군 (4773000000)",
         "orientation": "v",
         "showlegend": true,
         "type": "scatter",
         "x": {
          "bdata": "5gfnB+gH",
          "dtype": "i2"
         },
         "xaxis": "x",
         "y": {
          "bdata": "R6Pu0tGoqz/Dnf/UtAmqP2tcEWdRHqc/",
          "dtype": "f8"
         },
         "yaxis": "y"
        },
        {
         "customdata": {
          "bdata": "3wcAABaKAAA5BwAAVIsAAMwGAACCjQAA",
          "dtype": "i4",
          "shape": "3, 2"
         },
         "hovertemplate": "행정구역=경상남도 합천군 (4889000000)<br>지방소멸지수=%{y:.3f}<br>20~39세_여성=%{customdata[0]}<br>65세_이상_전체=%{customdata[1]}<extra></extra>",
         "legendgroup": "경상남도 합천군 (4889000000)",
         "line": {
          "color": "#FF6692",
          "dash": "solid"
         },
         "marker": {
          "symbol": "circle"
         },
         "mode": "lines+markers",
         "name": "경상남도 합천군 (4889000000)",
         "orientation": "v",
         "showlegend": true,
         "type": "scatter",
         "x": {
          "bdata": "5gfnB+gH",
          "dtype": "i2"
         },
         "xaxis": "x",
         "y": {
          "bdata": "8KyUFUovrT/ueUVcqoqqPwNNd8efl6g/",
          "dtype": "f8"
         },
         "yaxis": "y"
        },
        {
         "customdata": {
          "bdata": "KAdIbcUG4m4aBsBw",
          "dtype": "i2",
          "shape": "3, 2"
         },
         "hovertemplate": "행정구역=경상북도 영덕군 (4777000000)<br>지방소멸지수=%{y:.3f}<br>20~39세_여성=%{customdata[0]}<br>65세_이상_전체=%{customdata[1]}<extra></extra>",
         "legendgroup": "경상북도 영덕군 (4777000000)",
         "line": {
          "color": "#B6E880",
          "dash": "solid"
         },
         "marker": {
          "symbol": "circle"
         },
         "mode": "lines+markers",
         "name": "경상북도 영덕군 (4777000000)",
         "orientation": "v",
         "showlegend": true,
         "type": "scatter",
         "x": {
          "bdata": "5gfnB+gH",
          "dtype": "i2"
         },
         "xaxis": "x",
         "y": {
          "bdata": "/obs+ZrDsD/qWXcXG0KvP7UrUbsStas/",
          "dtype": "f8"
         },
         "yaxis": "y"
        },
        {
         "customdata": {
          "bdata": "VwVWXe8EUl9oBPRh",
          "dtype": "i2",
          "shape": "3, 2"
         },
         "hovertemplate": "행정구역=경상북도 봉화군 (4792000000)<br>지방소멸지수=%{y:.3f}<br>20~39세_여성=%{customdata[0]}<br>65세_이상_전체=%{customdata[1]}<extra></extra>",
         "legendgroup": "경상북도 봉화군 (4792000000)",
         "line": {
          "color": "#FF97FF",
          "dash": "solid"
         },
         "marker": {
          "symbol": "circle"
         },
         "mode": "lines+markers",
         "name": "경상북도 봉화군 (4792000000)",
         "orientation": "v",
         "showlegend": true,
         "type": "scatter",
         "x": {
          "bdata": "5gfnB+gH",
          "dtype": "i2"
         },
         "xaxis": "x",
         "y": {
          "bdata": "tUKFH8NKrT/5d5oOCICqP4FHHW8LCKc/",
          "dtype": "f8"
         },
         "yaxis": "y"
        },
        {
         "customdata": {
          "bdata": "ngN4UFMD+FI=",
          "dtype": "i2",
          "shape": "2, 2"
         },
         "hovertemplate": "행정구역=대구광역시 군위군 (2772000000)<br>지방소멸지수=%{y:.3f}<br>20~39세_여성=%{customdata[0]}<br>65세_이상_전체=%{customdata[1]}<extra></extra>",
         "legendgroup": "대구광역시 군위군 (2772000000)",
         "line": {
          "color": "#FECB52",
          "dash": "solid"
         },
         "marker": {
          "symbol": "circle"
         },
         "mode": "lines+markers",
         "name": "대구광역시 군위군 (2772000000)",
         "orientation": "v",
         "showlegend": true,
         "type": "scatter",
         "x": {
          "bdata": "5wfoBw==",
          "dtype": "i2"
         },
         "xaxis": "x",
         "y": {
          "bdata": "Ox2GleADpz+2wTn3hIOkPw==",
          "dtype": "f8"
         },
         "yaxis": "y"
        }
       ],
       "layout": {
        "hoverlabel": {
         "bgcolor": "white",
         "font": {
          "size": 12
         }
        },
        "legend": {
         "title": {
          "text": "행정구역"
         },
         "tracegroupgap": 0
        },
        "template": {
         "data": {
          "bar": [
           {
            "error_x": {
             "color": "#2a3f5f"
            },
            "error_y": {
             "color": "#2a3f5f"
            },
            "marker": {
             "line": {
              "color": "#E5ECF6",
              "width": 0.5
             },
             "pattern": {
              "fillmode": "overlay",
              "size": 10,
              "solidity": 0.2
             }
            },
            "type": "bar"
           }
          ],
          "barpolar": [
           {
            "marker": {
             "line": {
              "color": "#E5ECF6",
              "width": 0.5
             },
             "pattern": {
              "fillmode": "overlay",
              "size": 10,
              "solidity": 0.2
             }
            },
            "type": "barpolar"
           }
          ],
          "carpet": [
           {
            "aaxis": {
             "endlinecolor": "#2a3f5f",
             "gridcolor": "white",
             "linecolor": "white",
             "minorgridcolor": "white",
             "startlinecolor": "#2a3f5f"
            },
            "baxis": {
             "endlinecolor": "#2a3f5f",
             "gridcolor": "white",
             "linecolor": "white",
             "minorgridcolor": "white",
             "startlinecolor": "#2a3f5f"
            },
            "type": "carpet"
           }
          ],
          "choropleth": [
           {
            "colorbar": {
             "outlinewidth": 0,
             "ticks": ""
            },
            "type": "choropleth"
           }
          ],
          "contour": [
           {
            "colorbar": {
             "outlinewidth": 0,
             "ticks": ""
            },
            "colorscale": [
             [
              0,
              "#0d0887"
             ],
             [
              0.1111111111111111,
              "#46039f"
             ],
             [
              0.2222222222222222,
              "#7201a8"
             ],
             [
              0.3333333333333333,
              "#9c179e"
             ],
             [
              0.4444444444444444,
              "#bd3786"
             ],
             [
              0.5555555555555556,
              "#d8576b"
             ],
             [
              0.6666666666666666,
              "#ed7953"
             ],
             [
              0.7777777777777778,
              "#fb9f3a"
             ],
             [
              0.8888888888888888,
              "#fdca26"
             ],
             [
              1,
              "#f0f921"
             ]
            ],
            "type": "contour"
           }
          ],
          "contourcarpet": [
           {
            "colorbar": {
             "outlinewidth": 0,
             "ticks": ""
            },
            "type": "contourcarpet"
           }
          ],
          "heatmap": [
           {
            "colorbar": {
             "outlinewidth": 0,
             "ticks": ""
            },
            "colorscale": [
             [
              0,
              "#0d0887"
             ],
             [
              0.1111111111111111,
              "#46039f"
             ],
             [
              0.2222222222222222,
              "#7201a8"
             ],
             [
              0.3333333333333333,
              "#9c179e"
             ],
             [
              0.4444444444444444,
              "#bd3786"
             ],
             [
              0.5555555555555556,
              "#d8576b"
             ],
             [
              0.6666666666666666,
              "#ed7953"
             ],
             [
              0.7777777777777778,
              "#fb9f3a"
             ],
             [
              0.8888888888888888,
              "#fdca26"
             ],
             [
              1,
              "#f0f921"
             ]
            ],
            "type": "heatmap"
           }
          ],
          "histogram": [
           {
            "marker": {
             "pattern": {
              "fillmode": "overlay",
              "size": 10,
              "solidity": 0.2
             }
            },
            "type": "histogram"
           }
          ],
          "histogram2d": [
           {
            "colorbar": {
             "outlinewidth": 0,
             "ticks": ""
            },
            "colorscale": [
             [
              0,
              "#0d0887"
             ],
             [
              0.1111111111111111,
              "#46039f"
             ],
             [
              0.2222222222222222,
              "#7201a8"
             ],
             [
              0.3333333333333333,
              "#9c179e"
             ],
             [
              0.4444444444444444,
              "#bd3786"
             ],
             [
              0.5555555555555556,
              "#d8576b"
             ],
             [
              0.6666666666666666,
              "#ed7953"
             ],
             [
              0.7777777777777778,
              "#fb9f3a"
             ],
             [
              0.8888888888888888,
              "#fdca26"
             ],
             [
              1,
              "#f0f921"
             ]
            ],
            "type": "histogram2d"
           }
          ],
          "histogram2dcontour": [
           {
            "colorbar": {
             "outlinewidth": 0,
             "ticks": ""
            },
            "colorscale": [
             [
              0,
              "#0d0887"
             ],
             [
              0.1111111111111111,
              "#46039f"
             ],
             [
              0.2222222222222222,
              "#7201a8"
             ],
             [
              0.3333333333333333,
              "#9c179e"
             ],
             [
              0.4444444444444444,
              "#bd3786"
             ],
             [
              0.5555555555555556,
              "#d8576b"
             ],
             [
              0.6666666666666666,
              "#ed7953"
             ],
             [
              0.7777777777777778,
              "#fb9f3a"
             ],
             [
              0.8888888888888888,
              "#fdca26"
             ],
             [
              1,
              "#f0f921"
             ]
            ],
            "type": "histogram2dcontour"
           }
          ],
          "mesh3d": [
           {
            "colorbar": {
             "outlinewidth": 0,
             "ticks": ""
            },
            "type": "mesh3d"
           }
          ],
          "parcoords": [
           {
            "line": {
             "colorbar": {
              "outlinewidth": 0,
              "ticks": ""
             }
            },
            "type": "parcoords"
           }
          ],
          "pie": [
           {
            "automargin": true,
            "type": "pie"
           }
          ],
          "scatter": [
           {
            "fillpattern": {
             "fillmode": "overlay",
             "size": 10,
             "solidity": 0.2
            },
            "type": "scatter"
           }
          ],
          "scatter3d": [
           {
            "line": {
             "colorbar": {
              "outlinewidth": 0,
              "ticks": ""
             }
            },
            "marker": {
             "colorbar": {
              "outlinewidth": 0,
              "ticks": ""
             }
            },
            "type": "scatter3d"
           }
          ],
          "scattercarpet": [
           {
            "marker": {
             "colorbar": {
              "outlinewidth": 0,
              "ticks": ""
             }
            },
            "type": "scattercarpet"
           }
          ],
          "scattergeo": [
           {
            "marker": {
             "colorbar": {
              "outlinewidth": 0,
              "ticks": ""
             }
            },
            "type": "scattergeo"
           }
          ],
          "scattergl": [
           {
            "marker": {
             "colorbar": {
              "outlinewidth": 0,
              "ticks": ""
             }
            },
            "type": "scattergl"
           }
          ],
          "scattermap": [
           {
            "marker": {
             "colorbar": {
              "outlinewidth": 0,
              "ticks": ""
             }
            },
            "type": "scattermap"
           }
          ],
          "scattermapbox": [
           {
            "marker": {
             "colorbar": {
              "outlinewidth": 0,
              "ticks": ""
             }
            },
            "type": "scattermapbox"
           }
          ],
          "scatterpolar": [
           {
            "marker": {
             "colorbar": {
              "outlinewidth": 0,
              "ticks": ""
             }
            },
            "type": "scatterpolar"
           }
          ],
          "scatterpolargl": [
           {
            "marker": {
             "colorbar": {
              "outlinewidth": 0,
              "ticks": ""
             }
            },
            "type": "scatterpolargl"
           }
          ],
          "scatterternary": [
           {
            "marker": {
             "colorbar": {
              "outlinewidth": 0,
              "ticks": ""
             }
            },
            "type": "scatterternary"
           }
          ],
          "surface": [
           {
            "colorbar": {
             "outlinewidth": 0,
             "ticks": ""
            },
            "colorscale": [
             [
              0,
              "#0d0887"
             ],
             [
              0.1111111111111111,
              "#46039f"
             ],
             [
              0.2222222222222222,
              "#7201a8"
             ],
             [
              0.3333333333333333,
              "#9c179e"
             ],
             [
              0.4444444444444444,
              "#bd3786"
             ],
             [
              0.5555555555555556,
              "#d8576b"
             ],
             [
              0.6666666666666666,
              "#ed7953"
             ],
             [
              0.7777777777777778,
              "#fb9f3a"
             ],
             [
              0.8888888888888888,
              "#fdca26"
             ],
             [
              1,
              "#f0f921"
             ]
            ],
            "type": "surface"
           }
          ],
          "table": [
           {
            "cells": {
             "fill": {
              "color": "#EBF0F8"
             },
             "line": {
              "color": "white"
             }
            },
            "header": {
             "fill": {
              "color": "#C8D4E3"
             },
             "line": {
              "color": "white"
             }
            },
            "type": "table"
           }
          ]
         },
         "layout": {
          "annotationdefaults": {
           "arrowcolor": "#2a3f5f",
           "arrowhead": 0,
           "arrowwidth": 1
          },
          "autotypenumbers": "strict",
          "coloraxis": {
           "colorbar": {
            "outlinewidth": 0,
            "ticks": ""
           }
          },
          "colorscale": {
           "diverging": [
            [
             0,
             "#8e0152"
            ],
            [
             0.1,
             "#c51b7d"
            ],
            [
             0.2,
             "#de77ae"
            ],
            [
             0.3,
             "#f1b6da"
            ],
            [
             0.4,
             "#fde0ef"
            ],
            [
             0.5,
             "#f7f7f7"
            ],
            [
             0.6,
             "#e6f5d0"
            ],
            [
             0.7,
             "#b8e186"
            ],
            [
             0.8,
             "#7fbc41"
            ],
            [
             0.9,
             "#4d9221"
            ],
            [
             1,
             "#276419"
            ]
           ],
           "sequential": [
            [
             0,
             "#0d0887"
            ],
            [
             0.1111111111111111,
             "#46039f"
            ],
            [
             0.2222222222222222,
             "#7201a8"
            ],
            [
             0.3333333333333333,
             "#9c179e"
            ],
            [
             0.4444444444444444,
             "#bd3786"
            ],
            [
             0.5555555555555556,
             "#d8576b"
            ],
            [
             0.6666666666666666,
             "#ed7953"
            ],
            [
             0.7777777777777778,
             "#fb9f3a"
            ],
            [
             0.8888888888888888,
             "#fdca26"
            ],
            [
             1,
             "#f0f921"
            ]
           ],
           "sequentialminus": [
            [
             0,
             "#0d0887"
            ],
            [
             0.1111111111111111,
             "#46039f"
            ],
            [
             0.2222222222222222,
             "#7201a8"
            ],
            [
             0.3333333333333333,
             "#9c179e"
            ],
            [
             0.4444444444444444,
             "#bd3786"
            ],
            [
             0.5555555555555556,
             "#d8576b"
            ],
            [
             0.6666666666666666,
             "#ed7953"
            ],
            [
             0.7777777777777778,
             "#fb9f3a"
            ],
            [
             0.8888888888888888,
             "#fdca26"
            ],
            [
             1,
             "#f0f921"
            ]
           ]
          },
          "colorway": [
           "#636efa",
           "#EF553B",
           "#00cc96",
           "#ab63fa",
           "#FFA15A",
           "#19d3f3",
           "#FF6692",
           "#B6E880",
           "#FF97FF",
           "#FECB52"
          ],
          "font": {
           "color": "#2a3f5f"
          },
          "geo": {
           "bgcolor": "white",
           "lakecolor": "white",
           "landcolor": "#E5ECF6",
           "showlakes": true,
           "showland": true,
           "subunitcolor": "white"
          },
          "hoverlabel": {
           "align": "left"
          },
          "hovermode": "closest",
          "mapbox": {
           "style": "light"
          },
          "paper_bgcolor": "white",
          "plot_bgcolor": "#E5ECF6",
          "polar": {
           "angularaxis": {
            "gridcolor": "white",
            "linecolor": "white",
            "ticks": ""
           },
           "bgcolor": "#E5ECF6",
           "radialaxis": {
            "gridcolor": "white",
            "linecolor": "white",
            "ticks": ""
           }
          },
          "scene": {
           "xaxis": {
            "backgroundcolor": "#E5ECF6",
            "gridcolor": "white",
            "gridwidth": 2,
            "linecolor": "white",
            "showbackground": true,
            "ticks": "",
            "zerolinecolor": "white"
           },
           "yaxis": {
            "backgroundcolor": "#E5ECF6",
            "gridcolor": "white",
            "gridwidth": 2,
            "linecolor": "white",
            "showbackground": true,
            "ticks": "",
            "zerolinecolor": "white"
           },
           "zaxis": {
            "backgroundcolor": "#E5ECF6",
            "gridcolor": "white",
            "gridwidth": 2,
            "linecolor": "white",
            "showbackground": true,
            "ticks": "",
            "zerolinecolor": "white"
           }
          },
          "shapedefaults": {
           "line": {
            "color": "#2a3f5f"
           }
          },
          "ternary": {
           "aaxis": {
            "gridcolor": "white",
            "linecolor": "white",
            "ticks": ""
           },
           "baxis": {
            "gridcolor": "white",
            "linecolor": "white",
            "ticks": ""
           },
           "bgcolor": "#E5ECF6",
           "caxis": {
            "gridcolor": "white",
            "linecolor": "white",
            "ticks": ""
           }
          },
          "title": {
           "x": 0.05
          },
          "xaxis": {
           "automargin": true,
           "gridcolor": "white",
           "linecolor": "white",
           "ticks": "",
           "title": {
            "standoff": 15
           },
           "zerolinecolor": "white",
           "zerolinewidth": 2
          },
          "yaxis": {
           "automargin": true,
           "gridcolor": "white",
           "linecolor": "white",
           "ticks": "",
           "title": {
            "standoff": 15
           },
           "zerolinecolor": "white",
           "zerolinewidth": 2
          }
         }
        },
        "title": {
         "text": "decline_index_trend"
        },
        "xaxis": {
         "anchor": "y",
         "domain": [
          0,
          1
         ],
         "title": {
          "text": "연도"
         }
        },
        "yaxis": {
         "anchor": "x",
         "domain": [
          0,
          1
         ],
         "title": {
          "text": "지방소멸지수"
         }
        }
       }
      }
     },
     "metadata": {},
     "output_type": "display_data"
    }
   ],
   "source": [
    "# 시각화\n",
    "fig = plot_extinction_trend(decline_stat_df1, title='decline_index_trend', save = True)\n",
    "fig.show()\n"
   ]
  },
  {
   "cell_type": "code",
   "execution_count": 11,
   "id": "c32226f1",
   "metadata": {},
   "outputs": [
    {
     "data": {
      "image/png": "[encoded data removed]"
     },
     "metadata": {},
     "output_type": "display_data"
    }
   ],
   "source": [
    "\n",
    "# png 출력용 - 깃에서 보기위함\n",
    "pio.show(fig, renderer=\"png\")"
   ]
  },
  {
   "cell_type": "code",
   "execution_count": null,
   "id": "4814f482",
   "metadata": {},
   "outputs": [],
   "source": []
  },
  {
   "cell_type": "code",
   "execution_count": null,
   "id": "50effd5f",
   "metadata": {},
   "outputs": [],
   "source": []
  },
  {
   "cell_type": "code",
   "execution_count": null,
   "id": "2ebfdda3",
   "metadata": {},
   "outputs": [],
   "source": []
  },
  {
   "cell_type": "code",
   "execution_count": 12,
   "id": "77a33a0e",
   "metadata": {},
   "outputs": [
    {
     "data": {
      "text/html": [
       "<div>\n",
       "<style scoped>\n",
       "    .dataframe tbody tr th:only-of-type {\n",
       "        vertical-align: middle;\n",
       "    }\n",
       "\n",
       "    .dataframe tbody tr th {\n",
       "        vertical-align: top;\n",
       "    }\n",
       "\n",
       "    .dataframe thead th {\n",
       "        text-align: right;\n",
       "    }\n",
       "</style>\n",
       "<table border=\"1\" class=\"dataframe\">\n",
       "  <thead>\n",
       "    <tr style=\"text-align: right;\">\n",
       "      <th></th>\n",
       "      <th>행정구역</th>\n",
       "      <th>연도</th>\n",
       "      <th>20~39세_여성</th>\n",
       "      <th>65세_이상_전체</th>\n",
       "      <th>지방소멸지수</th>\n",
       "      <th>소멸위험순위</th>\n",
       "    </tr>\n",
       "  </thead>\n",
       "  <tbody>\n",
       "    <tr>\n",
       "      <th>0</th>\n",
       "      <td>대구광역시 군위군 (2772000000)</td>\n",
       "      <td>2024</td>\n",
       "      <td>851</td>\n",
       "      <td>21240</td>\n",
       "      <td>0.040066</td>\n",
       "      <td>1</td>\n",
       "    </tr>\n",
       "    <tr>\n",
       "      <th>1</th>\n",
       "      <td>대구광역시 군위군 (2772000000)</td>\n",
       "      <td>2023</td>\n",
       "      <td>926</td>\n",
       "      <td>20600</td>\n",
       "      <td>0.044951</td>\n",
       "      <td>1</td>\n",
       "    </tr>\n",
       "    <tr>\n",
       "      <th>2</th>\n",
       "      <td>경상북도 봉화군 (4792000000)</td>\n",
       "      <td>2024</td>\n",
       "      <td>1128</td>\n",
       "      <td>25076</td>\n",
       "      <td>0.044983</td>\n",
       "      <td>2</td>\n",
       "    </tr>\n",
       "    <tr>\n",
       "      <th>3</th>\n",
       "      <td>경상북도 봉화군 (4792000000)</td>\n",
       "      <td>2023</td>\n",
       "      <td>1263</td>\n",
       "      <td>24402</td>\n",
       "      <td>0.051758</td>\n",
       "      <td>2</td>\n",
       "    </tr>\n",
       "    <tr>\n",
       "      <th>4</th>\n",
       "      <td>경상북도 봉화군 (4792000000)</td>\n",
       "      <td>2022</td>\n",
       "      <td>1367</td>\n",
       "      <td>23894</td>\n",
       "      <td>0.057211</td>\n",
       "      <td>2</td>\n",
       "    </tr>\n",
       "    <tr>\n",
       "      <th>5</th>\n",
       "      <td>경상북도 의성군 (4773000000)</td>\n",
       "      <td>2024</td>\n",
       "      <td>2084</td>\n",
       "      <td>46154</td>\n",
       "      <td>0.045153</td>\n",
       "      <td>3</td>\n",
       "    </tr>\n",
       "    <tr>\n",
       "      <th>6</th>\n",
       "      <td>경상북도 의성군 (4773000000)</td>\n",
       "      <td>2023</td>\n",
       "      <td>2307</td>\n",
       "      <td>45364</td>\n",
       "      <td>0.050855</td>\n",
       "      <td>3</td>\n",
       "    </tr>\n",
       "    <tr>\n",
       "      <th>7</th>\n",
       "      <td>경상북도 의성군 (4773000000)</td>\n",
       "      <td>2022</td>\n",
       "      <td>2396</td>\n",
       "      <td>44352</td>\n",
       "      <td>0.054022</td>\n",
       "      <td>3</td>\n",
       "    </tr>\n",
       "    <tr>\n",
       "      <th>8</th>\n",
       "      <td>경상남도 합천군 (4889000000)</td>\n",
       "      <td>2024</td>\n",
       "      <td>1740</td>\n",
       "      <td>36226</td>\n",
       "      <td>0.048032</td>\n",
       "      <td>4</td>\n",
       "    </tr>\n",
       "    <tr>\n",
       "      <th>9</th>\n",
       "      <td>경상남도 합천군 (4889000000)</td>\n",
       "      <td>2023</td>\n",
       "      <td>1849</td>\n",
       "      <td>35668</td>\n",
       "      <td>0.051839</td>\n",
       "      <td>4</td>\n",
       "    </tr>\n",
       "  </tbody>\n",
       "</table>\n",
       "</div>"
      ],
      "text/plain": [
       "                     행정구역    연도  20~39세_여성  65세_이상_전체    지방소멸지수  소멸위험순위\n",
       "0  대구광역시 군위군 (2772000000)  2024        851      21240  0.040066       1\n",
       "1  대구광역시 군위군 (2772000000)  2023        926      20600  0.044951       1\n",
       "2   경상북도 봉화군 (4792000000)  2024       1128      25076  0.044983       2\n",
       "3   경상북도 봉화군 (4792000000)  2023       1263      24402  0.051758       2\n",
       "4   경상북도 봉화군 (4792000000)  2022       1367      23894  0.057211       2\n",
       "5   경상북도 의성군 (4773000000)  2024       2084      46154  0.045153       3\n",
       "6   경상북도 의성군 (4773000000)  2023       2307      45364  0.050855       3\n",
       "7   경상북도 의성군 (4773000000)  2022       2396      44352  0.054022       3\n",
       "8   경상남도 합천군 (4889000000)  2024       1740      36226  0.048032       4\n",
       "9   경상남도 합천군 (4889000000)  2023       1849      35668  0.051839       4"
      ]
     },
     "execution_count": 12,
     "metadata": {},
     "output_type": "execute_result"
    }
   ],
   "source": [
    "decline_stat_df2.head(10)"
   ]
  },
  {
   "cell_type": "code",
   "execution_count": 13,
   "id": "1271ecc3",
   "metadata": {},
   "outputs": [
    {
     "name": "stdout",
     "output_type": "stream",
     "text": [
      "동두천시, [104] - [0.1789]\n",
      "통영시, [82] - [0.1381]\n",
      "제천시, [91] - [0.1559]\n",
      "공주시, [83] - [0.1402]\n",
      "함안군, [55] - [0.0924]\n",
      "해남군, [39] - [0.0762]\n",
      "남원시, [68] - [0.1068]\n",
      "광주시, [] - []\n",
      "양주시, [] - []\n",
      "용인시, [] - []\n",
      "파주시, [] - []\n",
      "화성시, [] - []\n",
      "경산시, [] - []\n",
      "포항시, [106 122] - [0.1837 0.1992]\n",
      "김해시, [] - []\n",
      "진주시, [] - []\n",
      "순천시, [] - []\n"
     ]
    }
   ],
   "source": [
    "region_list = [\n",
    "    '동두천시', '통영시', '제천시', '공주시', '함안군', '해남군', '남원시', '광주시', '양주시', '용인시',\n",
    "    '파주시', '화성시', '경산시', '포항시', '김해시', '진주시', '순천시'\n",
    "\n",
    "]\n",
    "for region_ in region_list:\n",
    "    temp_df = decline_stat_df2[decline_stat_df2['행정구역'].str.contains(region_)]\n",
    "    decline_value = temp_df[temp_df['연도']==2024]['지방소멸지수'].to_numpy()\n",
    "    print(f\"{region_}, {temp_df['소멸위험순위'].unique()} - {np.round(decline_value, 4)}\")\n",
    "    \n",
    "\n",
    "    "
   ]
  },
  {
   "cell_type": "code",
   "execution_count": null,
   "id": "4d5b2f0b",
   "metadata": {},
   "outputs": [],
   "source": []
  },
  {
   "cell_type": "code",
   "execution_count": null,
   "id": "dd6a9ff5",
   "metadata": {},
   "outputs": [],
   "source": []
  }
 ],
 "metadata": {
  "kernelspec": {
   "display_name": "my_env",
   "language": "python",
   "name": "python3"
  },
  "language_info": {
   "codemirror_mode": {
    "name": "ipython",
    "version": 3
   },
   "file_extension": ".py",
   "mimetype": "text/x-python",
   "name": "python",
   "nbconvert_exporter": "python",
   "pygments_lexer": "ipython3",
   "version": "3.8.20"
  }
 },
 "nbformat": 4,
 "nbformat_minor": 5
}
